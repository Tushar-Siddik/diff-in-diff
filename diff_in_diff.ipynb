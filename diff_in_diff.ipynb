{
 "cells": [
  {
   "cell_type": "markdown",
   "metadata": {},
   "source": [
    "# The Difference-in-Differences Model\n",
    "\n",
    "`The Difference-in-Differences (DiD)` or `diff-in-diff` model is a statistical technique used in `econometrics` and other fields to estimate `causal effects` in observational studies. It is commonly employed when analyzing the impact of a `treatment` or intervention by comparing the changes in outcomes over time between a `treatment group` and a `control group`."
   ]
  },
  {
   "cell_type": "markdown",
   "metadata": {},
   "source": [
    "Suppose, we have a DataFrame with features: `'group'`, `'time_period'`, and `'outcome'`. \n",
    "\n",
    "- `'group'` is a binary indicator for the treatment group (`1 for treatment`, `0 for control`)\n",
    "\n",
    "- `'time_period'` is a binary indicator for the post-treatment period (`1 for post-treatment`, `0 for pre-treatment`)\n",
    "\n",
    "- `'outcome'` is the outcome variable\n",
    "\n",
    "The key idea of DiD is that the treatment effect is estimated by comparing the changes in the treatment group with the changes in the control group over time."
   ]
  },
  {
   "cell_type": "markdown",
   "metadata": {},
   "source": [
    "***The basic equation for a Difference-in-Differences (DiD) model can be expressed as follows:***\n",
    "\n",
    "$Y_{it} = \\beta_0 + \\beta_1 \\text{group}_{i} + \\beta_2 \\text{time\\_period}_{t} + \\beta_3 (\\text{group}_{i} \\times \\text{time\\_period}_{t}) + \\epsilon_{it}$\n",
    "\n",
    "Where,\n",
    "- $Y_{it}$ is the outcome variable for observation i at time t.\n",
    "\n",
    "- $group_i$ is a binary indicator variable for whether observation $i$ received the treatment (1 for treatment group, 0 for control group).\n",
    "\n",
    "- $time\\_period_t$ is a binary indicator variable for whether the observation is in the `post-treatment` period or `pre_treatment` period(1 for post-treatment, 0 for pre-treatment).\n",
    "\n",
    "- $\\text{group}_{i} \\times \\text{time\\_period}_{t}$ is the interaction term between treatment and post-treatment indicators.\n",
    "\n",
    "- $β_0$ is the intercept, representing the average outcome in the control group during the pre-treatment period.\n",
    "\n",
    "- $β_1$ is the average treatment effect on the control group during the pre-treatment period.\n",
    "\n",
    "- $β_2$ is the average time effect on the control group.\n",
    "\n",
    "- $β_3$ is the DiD estimator, representing the average treatment effect on the treated group. It shows the differnetial treatment effect.\n",
    "\n",
    "\n",
    "we can insert the values of `group` and `time_period` using the table below and see that coefficient ($\\beta_3$) of the interaction of `group` and `time_period` is the value for DID：\n",
    "\n",
    "|              | Control Group (g=0) | Treatment Group (g=1)                   |                 |\n",
    "|--------------|---------------------|-----------------------------------------|-----------------|\n",
    "| Before (t=0) | $\\beta_0$           | $\\beta_0 + \\beta_1$                     |                 |\n",
    "| After (t=1)  | $\\beta_0 + \\beta_2$ | $\\beta_0 + \\beta_1 + \\beta_2 + \\beta_3$ |                 |\n",
    "| Difference   | $\\beta_2$           | $\\beta_2 + \\beta_3$                     | $\\beta_3$ (DID) |\n",
    "\n",
    "The goal is to estimate the DiD coefficient $(β_3)$, which captures the average treatment effect by comparing the change in outcomes over time between the treatment and control groups."
   ]
  },
  {
   "cell_type": "markdown",
   "metadata": {},
   "source": [
    "## Assumptions\n",
    "The key assumption of the DiD model is the `parallel trends assumption`. It assumes that, in the absence of treatment, the average outcomes of the treatment and control groups would have followed a parallel trend.\n",
    "\n",
    "## Practical Application:\n",
    "- Econometricians use the DiD model to evaluate policy interventions, such as the impact of a new law or program on economic outcomes.\n",
    "\n",
    "The DiD model is a powerful tool for estimating causal effects in observational data by leveraging the differences in trends over time between treated and control groups."
   ]
  },
  {
   "cell_type": "markdown",
   "metadata": {},
   "source": [
    "Here's a basic outline of how to implement a `Difference-in-Differences` model in Python using the statsmodels library:\n",
    "\n",
    "The dataset is adapted from the dataset in [Card and Krueger (1994)](https://davidcard.berkeley.edu/papers/njmin-aer.pdf), which estimates the causal effect of an increase in the state minimum wage on the employment. \n",
    "\n",
    "- On April 1, 1992, New Jersey (`NJ`) raised the state minimum wage from 4.25 USD to 5.05 USD while the minimum wage in Pennsylvania (`PA`) stays the same at 4.25 USD. \n",
    "- Data about employment in fast-food restaurants in `NJ` and `PA` were collected in `February 1992` and in `November 1992`. \n",
    "- 384 restaurants in total after removing null values.\n",
    "\n",
    "-  - `state` is `0 for the control group` (PA) and `1 for the treatment group` (NJ).\n",
    "-  - `time` is `0 for before` (i.e., before April 1, 1992) and `1 for after` (i.e., after April 1, 1992).\n"
   ]
  },
  {
   "cell_type": "markdown",
   "metadata": {},
   "source": [
    "## Import libraries"
   ]
  },
  {
   "cell_type": "code",
   "execution_count": 1,
   "metadata": {},
   "outputs": [],
   "source": [
    "import pandas as pd\n",
    "import numpy as np\n",
    "import matplotlib.pyplot as plt\n",
    "from statsmodels.formula.api import ols"
   ]
  },
  {
   "cell_type": "markdown",
   "metadata": {},
   "source": [
    "## Load and prepare data"
   ]
  },
  {
   "cell_type": "code",
   "execution_count": 2,
   "metadata": {},
   "outputs": [
    {
     "name": "stdout",
     "output_type": "stream",
     "text": [
      "<class 'pandas.core.frame.DataFrame'>\n",
      "RangeIndex: 384 entries, 0 to 383\n",
      "Data columns (total 3 columns):\n",
      " #   Column         Non-Null Count  Dtype  \n",
      "---  ------         --------------  -----  \n",
      " 0   state          384 non-null    int64  \n",
      " 1   total_emp_feb  384 non-null    float64\n",
      " 2   total_emp_nov  384 non-null    float64\n",
      "dtypes: float64(2), int64(1)\n",
      "memory usage: 9.1 KB\n",
      "None\n"
     ]
    },
    {
     "data": {
      "text/html": [
       "<div>\n",
       "<style scoped>\n",
       "    .dataframe tbody tr th:only-of-type {\n",
       "        vertical-align: middle;\n",
       "    }\n",
       "\n",
       "    .dataframe tbody tr th {\n",
       "        vertical-align: top;\n",
       "    }\n",
       "\n",
       "    .dataframe thead th {\n",
       "        text-align: right;\n",
       "    }\n",
       "</style>\n",
       "<table border=\"1\" class=\"dataframe\">\n",
       "  <thead>\n",
       "    <tr style=\"text-align: right;\">\n",
       "      <th></th>\n",
       "      <th>state</th>\n",
       "      <th>total_emp_feb</th>\n",
       "      <th>total_emp_nov</th>\n",
       "    </tr>\n",
       "  </thead>\n",
       "  <tbody>\n",
       "    <tr>\n",
       "      <th>0</th>\n",
       "      <td>0</td>\n",
       "      <td>40.50</td>\n",
       "      <td>24.0</td>\n",
       "    </tr>\n",
       "    <tr>\n",
       "      <th>1</th>\n",
       "      <td>0</td>\n",
       "      <td>13.75</td>\n",
       "      <td>11.5</td>\n",
       "    </tr>\n",
       "    <tr>\n",
       "      <th>2</th>\n",
       "      <td>0</td>\n",
       "      <td>8.50</td>\n",
       "      <td>10.5</td>\n",
       "    </tr>\n",
       "    <tr>\n",
       "      <th>3</th>\n",
       "      <td>0</td>\n",
       "      <td>34.00</td>\n",
       "      <td>20.0</td>\n",
       "    </tr>\n",
       "    <tr>\n",
       "      <th>4</th>\n",
       "      <td>0</td>\n",
       "      <td>24.00</td>\n",
       "      <td>35.5</td>\n",
       "    </tr>\n",
       "  </tbody>\n",
       "</table>\n",
       "</div>"
      ],
      "text/plain": [
       "   state  total_emp_feb  total_emp_nov\n",
       "0      0          40.50           24.0\n",
       "1      0          13.75           11.5\n",
       "2      0           8.50           10.5\n",
       "3      0          34.00           20.0\n",
       "4      0          24.00           35.5"
      ]
     },
     "execution_count": 2,
     "metadata": {},
     "output_type": "execute_result"
    }
   ],
   "source": [
    "df = pd.read_csv('data/employment.csv')\n",
    "print(df.info())\n",
    "df.head()"
   ]
  },
  {
   "cell_type": "markdown",
   "metadata": {},
   "source": [
    "### Create dataframe before raising minimum wage"
   ]
  },
  {
   "cell_type": "code",
   "execution_count": 3,
   "metadata": {},
   "outputs": [
    {
     "name": "stdout",
     "output_type": "stream",
     "text": [
      "<class 'pandas.core.frame.DataFrame'>\n",
      "RangeIndex: 384 entries, 0 to 383\n",
      "Data columns (total 3 columns):\n",
      " #   Column  Non-Null Count  Dtype  \n",
      "---  ------  --------------  -----  \n",
      " 0   state   384 non-null    int64  \n",
      " 1   emp     384 non-null    float64\n",
      " 2   time    384 non-null    int64  \n",
      "dtypes: float64(1), int64(2)\n",
      "memory usage: 9.1 KB\n",
      "None\n"
     ]
    },
    {
     "data": {
      "text/html": [
       "<div>\n",
       "<style scoped>\n",
       "    .dataframe tbody tr th:only-of-type {\n",
       "        vertical-align: middle;\n",
       "    }\n",
       "\n",
       "    .dataframe tbody tr th {\n",
       "        vertical-align: top;\n",
       "    }\n",
       "\n",
       "    .dataframe thead th {\n",
       "        text-align: right;\n",
       "    }\n",
       "</style>\n",
       "<table border=\"1\" class=\"dataframe\">\n",
       "  <thead>\n",
       "    <tr style=\"text-align: right;\">\n",
       "      <th></th>\n",
       "      <th>state</th>\n",
       "      <th>emp</th>\n",
       "      <th>time</th>\n",
       "    </tr>\n",
       "  </thead>\n",
       "  <tbody>\n",
       "    <tr>\n",
       "      <th>0</th>\n",
       "      <td>0</td>\n",
       "      <td>40.50</td>\n",
       "      <td>0</td>\n",
       "    </tr>\n",
       "    <tr>\n",
       "      <th>1</th>\n",
       "      <td>0</td>\n",
       "      <td>13.75</td>\n",
       "      <td>0</td>\n",
       "    </tr>\n",
       "    <tr>\n",
       "      <th>2</th>\n",
       "      <td>0</td>\n",
       "      <td>8.50</td>\n",
       "      <td>0</td>\n",
       "    </tr>\n",
       "    <tr>\n",
       "      <th>3</th>\n",
       "      <td>0</td>\n",
       "      <td>34.00</td>\n",
       "      <td>0</td>\n",
       "    </tr>\n",
       "    <tr>\n",
       "      <th>4</th>\n",
       "      <td>0</td>\n",
       "      <td>24.00</td>\n",
       "      <td>0</td>\n",
       "    </tr>\n",
       "  </tbody>\n",
       "</table>\n",
       "</div>"
      ],
      "text/plain": [
       "   state    emp  time\n",
       "0      0  40.50     0\n",
       "1      0  13.75     0\n",
       "2      0   8.50     0\n",
       "3      0  34.00     0\n",
       "4      0  24.00     0"
      ]
     },
     "execution_count": 3,
     "metadata": {},
     "output_type": "execute_result"
    }
   ],
   "source": [
    "df_before = df[['state', 'total_emp_feb']]\n",
    "df_before['time'] = 0\n",
    "df_before.rename({'total_emp_feb' : 'emp'}, axis = 1, inplace = True)\n",
    "\n",
    "print(df_before.info())\n",
    "df_before.head()"
   ]
  },
  {
   "cell_type": "markdown",
   "metadata": {},
   "source": [
    "### Create dataframe after raising minimum wage"
   ]
  },
  {
   "cell_type": "code",
   "execution_count": 4,
   "metadata": {},
   "outputs": [
    {
     "name": "stdout",
     "output_type": "stream",
     "text": [
      "<class 'pandas.core.frame.DataFrame'>\n",
      "RangeIndex: 384 entries, 0 to 383\n",
      "Data columns (total 3 columns):\n",
      " #   Column  Non-Null Count  Dtype  \n",
      "---  ------  --------------  -----  \n",
      " 0   state   384 non-null    int64  \n",
      " 1   emp     384 non-null    float64\n",
      " 2   time    384 non-null    int64  \n",
      "dtypes: float64(1), int64(2)\n",
      "memory usage: 9.1 KB\n",
      "None\n"
     ]
    },
    {
     "data": {
      "text/html": [
       "<div>\n",
       "<style scoped>\n",
       "    .dataframe tbody tr th:only-of-type {\n",
       "        vertical-align: middle;\n",
       "    }\n",
       "\n",
       "    .dataframe tbody tr th {\n",
       "        vertical-align: top;\n",
       "    }\n",
       "\n",
       "    .dataframe thead th {\n",
       "        text-align: right;\n",
       "    }\n",
       "</style>\n",
       "<table border=\"1\" class=\"dataframe\">\n",
       "  <thead>\n",
       "    <tr style=\"text-align: right;\">\n",
       "      <th></th>\n",
       "      <th>state</th>\n",
       "      <th>emp</th>\n",
       "      <th>time</th>\n",
       "    </tr>\n",
       "  </thead>\n",
       "  <tbody>\n",
       "    <tr>\n",
       "      <th>0</th>\n",
       "      <td>0</td>\n",
       "      <td>24.0</td>\n",
       "      <td>1</td>\n",
       "    </tr>\n",
       "    <tr>\n",
       "      <th>1</th>\n",
       "      <td>0</td>\n",
       "      <td>11.5</td>\n",
       "      <td>1</td>\n",
       "    </tr>\n",
       "    <tr>\n",
       "      <th>2</th>\n",
       "      <td>0</td>\n",
       "      <td>10.5</td>\n",
       "      <td>1</td>\n",
       "    </tr>\n",
       "    <tr>\n",
       "      <th>3</th>\n",
       "      <td>0</td>\n",
       "      <td>20.0</td>\n",
       "      <td>1</td>\n",
       "    </tr>\n",
       "    <tr>\n",
       "      <th>4</th>\n",
       "      <td>0</td>\n",
       "      <td>35.5</td>\n",
       "      <td>1</td>\n",
       "    </tr>\n",
       "  </tbody>\n",
       "</table>\n",
       "</div>"
      ],
      "text/plain": [
       "   state   emp  time\n",
       "0      0  24.0     1\n",
       "1      0  11.5     1\n",
       "2      0  10.5     1\n",
       "3      0  20.0     1\n",
       "4      0  35.5     1"
      ]
     },
     "execution_count": 4,
     "metadata": {},
     "output_type": "execute_result"
    }
   ],
   "source": [
    "df_after = df[['state', 'total_emp_nov']]\n",
    "df_after['time'] = 1\n",
    "df_after.rename({'total_emp_nov' : 'emp'}, axis  = 1, inplace= True)\n",
    "\n",
    "print(df_after.info())\n",
    "df_after.head()"
   ]
  },
  {
   "cell_type": "markdown",
   "metadata": {},
   "source": [
    "### Connect together both dataframe row by row"
   ]
  },
  {
   "cell_type": "code",
   "execution_count": 5,
   "metadata": {},
   "outputs": [
    {
     "name": "stdout",
     "output_type": "stream",
     "text": [
      "<class 'pandas.core.frame.DataFrame'>\n",
      "Index: 768 entries, 0 to 383\n",
      "Data columns (total 3 columns):\n",
      " #   Column  Non-Null Count  Dtype  \n",
      "---  ------  --------------  -----  \n",
      " 0   state   768 non-null    int64  \n",
      " 1   emp     768 non-null    float64\n",
      " 2   time    768 non-null    int64  \n",
      "dtypes: float64(1), int64(2)\n",
      "memory usage: 24.0 KB\n",
      "None\n"
     ]
    },
    {
     "data": {
      "text/html": [
       "<div>\n",
       "<style scoped>\n",
       "    .dataframe tbody tr th:only-of-type {\n",
       "        vertical-align: middle;\n",
       "    }\n",
       "\n",
       "    .dataframe tbody tr th {\n",
       "        vertical-align: top;\n",
       "    }\n",
       "\n",
       "    .dataframe thead th {\n",
       "        text-align: right;\n",
       "    }\n",
       "</style>\n",
       "<table border=\"1\" class=\"dataframe\">\n",
       "  <thead>\n",
       "    <tr style=\"text-align: right;\">\n",
       "      <th></th>\n",
       "      <th>state</th>\n",
       "      <th>emp</th>\n",
       "      <th>time</th>\n",
       "    </tr>\n",
       "  </thead>\n",
       "  <tbody>\n",
       "    <tr>\n",
       "      <th>0</th>\n",
       "      <td>0</td>\n",
       "      <td>40.50</td>\n",
       "      <td>0</td>\n",
       "    </tr>\n",
       "    <tr>\n",
       "      <th>1</th>\n",
       "      <td>0</td>\n",
       "      <td>13.75</td>\n",
       "      <td>0</td>\n",
       "    </tr>\n",
       "    <tr>\n",
       "      <th>2</th>\n",
       "      <td>0</td>\n",
       "      <td>8.50</td>\n",
       "      <td>0</td>\n",
       "    </tr>\n",
       "    <tr>\n",
       "      <th>3</th>\n",
       "      <td>0</td>\n",
       "      <td>34.00</td>\n",
       "      <td>0</td>\n",
       "    </tr>\n",
       "    <tr>\n",
       "      <th>4</th>\n",
       "      <td>0</td>\n",
       "      <td>24.00</td>\n",
       "      <td>0</td>\n",
       "    </tr>\n",
       "  </tbody>\n",
       "</table>\n",
       "</div>"
      ],
      "text/plain": [
       "   state    emp  time\n",
       "0      0  40.50     0\n",
       "1      0  13.75     0\n",
       "2      0   8.50     0\n",
       "3      0  34.00     0\n",
       "4      0  24.00     0"
      ]
     },
     "execution_count": 5,
     "metadata": {},
     "output_type": "execute_result"
    }
   ],
   "source": [
    "df_all = pd.concat([df_before, df_after])\n",
    "print(df_all.info())\n",
    "df_all.head()"
   ]
  },
  {
   "cell_type": "markdown",
   "metadata": {},
   "source": [
    "## Specify the model\n",
    "\n",
    "`sm.OLS(' y ~ X' )`\n",
    "- `y` is the dependent or target variable\n",
    "- `X` is/are the explanatory (independent) variable/s. "
   ]
  },
  {
   "cell_type": "code",
   "execution_count": 6,
   "metadata": {},
   "outputs": [],
   "source": [
    "model = ols('emp ~ state*time', data=df_all).fit()\n",
    "# state*time is a shortcut system in statsmodels.\n",
    "# state*time means 'state', 'time', and 'state*time' are in together."
   ]
  },
  {
   "cell_type": "markdown",
   "metadata": {},
   "source": [
    "### Get model summary"
   ]
  },
  {
   "cell_type": "code",
   "execution_count": 7,
   "metadata": {},
   "outputs": [
    {
     "name": "stdout",
     "output_type": "stream",
     "text": [
      "                            OLS Regression Results                            \n",
      "==============================================================================\n",
      "Dep. Variable:                    emp   R-squared:                       0.008\n",
      "Model:                            OLS   Adj. R-squared:                  0.004\n",
      "Method:                 Least Squares   F-statistic:                     1.947\n",
      "Date:                Sat, 27 Jan 2024   Prob (F-statistic):              0.121\n",
      "Time:                        00:23:01   Log-Likelihood:                -2817.6\n",
      "No. Observations:                 768   AIC:                             5643.\n",
      "Df Residuals:                     764   BIC:                             5662.\n",
      "Df Model:                           3                                         \n",
      "Covariance Type:            nonrobust                                         \n",
      "==============================================================================\n",
      "                 coef    std err          t      P>|t|      [0.025      0.975]\n",
      "------------------------------------------------------------------------------\n",
      "Intercept     23.3800      1.098     21.288      0.000      21.224      25.536\n",
      "state         -2.9494      1.224     -2.409      0.016      -5.353      -0.546\n",
      "time          -2.2833      1.553     -1.470      0.142      -5.332       0.766\n",
      "state:time     2.7500      1.731      1.588      0.113      -0.649       6.149\n",
      "==============================================================================\n",
      "Omnibus:                      212.243   Durbin-Watson:                   1.835\n",
      "Prob(Omnibus):                  0.000   Jarque-Bera (JB):              761.734\n",
      "Skew:                           1.278   Prob(JB):                    3.90e-166\n",
      "Kurtosis:                       7.155   Cond. No.                         11.3\n",
      "==============================================================================\n",
      "\n",
      "Notes:\n",
      "[1] Standard Errors assume that the covariance matrix of the errors is correctly specified.\n"
     ]
    }
   ],
   "source": [
    "print(model.summary())\n",
    "\n",
    "# For more compact summary\n",
    "# print(model.summary())"
   ]
  },
  {
   "cell_type": "markdown",
   "metadata": {},
   "source": [
    "### Export model"
   ]
  },
  {
   "cell_type": "code",
   "execution_count": 8,
   "metadata": {},
   "outputs": [],
   "source": [
    "# As text\n",
    "with open('diff-in-diff.txt', 'w') as f:\n",
    "    f.write(model.summary().as_text())\n",
    "\n",
    "# # As csv\n",
    "# with open('diff-in-diff.csv', 'w') as f:\n",
    "#     f.write(model.summary().as_csv())\n",
    "\n",
    "# # As html\n",
    "# with open('diff-in-diff.html', 'w') as f:\n",
    "#     f.write(model.summary().as_html())\n",
    "    "
   ]
  },
  {
   "cell_type": "markdown",
   "metadata": {},
   "source": [
    "## Graphical presentation"
   ]
  },
  {
   "cell_type": "markdown",
   "metadata": {},
   "source": [
    "### Get all the parameters from the model"
   ]
  },
  {
   "cell_type": "code",
   "execution_count": 9,
   "metadata": {},
   "outputs": [
    {
     "data": {
      "text/plain": [
       "Intercept     23.380000\n",
       "state         -2.949417\n",
       "time          -2.283333\n",
       "state:time     2.750000\n",
       "dtype: float64"
      ]
     },
     "execution_count": 9,
     "metadata": {},
     "output_type": "execute_result"
    }
   ],
   "source": [
    "model.params"
   ]
  },
  {
   "cell_type": "code",
   "execution_count": 10,
   "metadata": {},
   "outputs": [],
   "source": [
    "# model parameters\n",
    "\n",
    "# beta_zero (intercept)\n",
    "# \n",
    "# control_intercept = ols.params.Intercept\n",
    "beta_zero = model.params.Intercept\n",
    "\n",
    "# beta_one (parameter of group, i.e. treatment group and control group)\n",
    "# Here I have used 'state' instead of group in the feature name.\n",
    "# \n",
    "# treat_intercept_delta = ols.params.state\n",
    "beta_one = model.params.state\n",
    "\n",
    "# beta_two (parameter of time)\n",
    "# \n",
    "# trend = ols.params.time\n",
    "beta_two = model.params.time\n",
    "\n",
    "# beta_three (DiD estimator)\n",
    "# \n",
    "# Δ = ols.params['state:time']\n",
    "beta_three = model.params['state:time']\n",
    "\n",
    "\n",
    "# Before intervention, time dummy is zero, and\n",
    "# Before intervention, time dummy is one\n",
    "# So, 0.5 is used as a middle value.\n",
    "intervention_time = 0.5"
   ]
  },
  {
   "cell_type": "markdown",
   "metadata": {},
   "source": [
    "### Specify 1000 values for X-axis as `time` between -0.5 and 1.5"
   ]
  },
  {
   "cell_type": "code",
   "execution_count": 11,
   "metadata": {},
   "outputs": [],
   "source": [
    "time = np.linspace(-0.5, 1.5, 1000)"
   ]
  },
  {
   "cell_type": "markdown",
   "metadata": {},
   "source": [
    "### Define a function to measure the outcome\n",
    "- Here's a helping function also to check if a group (i.e., state) is treated or not"
   ]
  },
  {
   "cell_type": "code",
   "execution_count": 12,
   "metadata": {},
   "outputs": [],
   "source": [
    "def outcome(beta_zero, beta_one, state, beta_two, time, beta_three, treated):\n",
    "    return beta_zero + (beta_one * state) + (beta_two * time) + (beta_three * state * treated)"
   ]
  },
  {
   "cell_type": "code",
   "execution_count": 13,
   "metadata": {},
   "outputs": [],
   "source": [
    "def is_treated(time, intervention_time, state):\n",
    "    return (time > intervention_time) * state"
   ]
  },
  {
   "cell_type": "markdown",
   "metadata": {},
   "source": [
    "### Calculate `counterfact`, `treatment`, `control` values using `outcome` function"
   ]
  },
  {
   "cell_type": "code",
   "execution_count": 14,
   "metadata": {},
   "outputs": [],
   "source": [
    "counterfact = outcome(\n",
    "    beta_zero = beta_zero, \n",
    "    beta_one = beta_one, \n",
    "    state = 1, \n",
    "    beta_two = beta_two, \n",
    "    time = time, \n",
    "    beta_three = 0, \n",
    "    treated = is_treated(time, intervention_time, state = 1)    \n",
    ")"
   ]
  },
  {
   "cell_type": "code",
   "execution_count": 15,
   "metadata": {},
   "outputs": [],
   "source": [
    "treatment = outcome(\n",
    "    beta_zero = beta_zero, \n",
    "    beta_one = beta_one, \n",
    "    state = 1, \n",
    "    beta_two = beta_two, \n",
    "    time = time, \n",
    "    beta_three = beta_three, \n",
    "    treated = is_treated(time, intervention_time, state = 1)    \n",
    ")"
   ]
  },
  {
   "cell_type": "code",
   "execution_count": 16,
   "metadata": {},
   "outputs": [],
   "source": [
    "control = outcome(\n",
    "    beta_zero = beta_zero, \n",
    "    beta_one = beta_one, \n",
    "    state = 0, \n",
    "    beta_two = beta_two, \n",
    "    time = time, \n",
    "    beta_three = beta_three, \n",
    "    treated = is_treated(time, intervention_time, state = 0)    \n",
    ")"
   ]
  },
  {
   "cell_type": "markdown",
   "metadata": {},
   "source": [
    "### Plot them with extra features"
   ]
  },
  {
   "cell_type": "code",
   "execution_count": 17,
   "metadata": {},
   "outputs": [
    {
     "data": {
      "image/png": "[encoded data removed]",
      "text/plain": [
       "<Figure size 1200x600 with 1 Axes>"
      ]
     },
     "metadata": {},
     "output_type": "display_data"
    }
   ],
   "source": [
    "fig, ax = plt.subplots(figsize = (12, 6))\n",
    "\n",
    "# plot for counterfactual\n",
    "# If treatment do not have any effect\n",
    "ax.plot(\n",
    "    time,\n",
    "    counterfact,\n",
    "    color=\"blue\",\n",
    "    label=\"counterfactual\",\n",
    "    ls=\":\",\n",
    ")\n",
    "\n",
    "# Plot for treatment group( before and after the treatment)\n",
    "ax.plot(\n",
    "    time,\n",
    "    treatment,\n",
    "    color=\"blue\",\n",
    "    label=\"treatment group\",\n",
    ")\n",
    "\n",
    "# Plot for control group( before and after the treatment)\n",
    "ax.plot(\n",
    "    time,\n",
    "    control,\n",
    "    color=\"C1\",\n",
    "    label=\"control group\",\n",
    ")\n",
    "\n",
    "# Plot the vertical line in the middle of the pre-treatment and post-treatment\n",
    "ax.axvline(x=intervention_time, ls=\"-\", color=\"r\", label=\"treatment time\", lw=3)\n",
    "\n",
    "# PLot 'filled point' on the above line plots\n",
    "t = np.array([0, 1])\n",
    "\n",
    "ax.plot(\n",
    "    t,\n",
    "    outcome(\n",
    "        beta_zero = beta_zero, \n",
    "        beta_one = beta_one, \n",
    "        state = 1, \n",
    "        beta_two = beta_two, \n",
    "        time = t,\n",
    "        beta_three = beta_three,\n",
    "        treated = is_treated(t, intervention_time, state=1),\n",
    "    ),\n",
    "    \"o\",\n",
    "    color=\"blue\",\n",
    ")\n",
    "\n",
    "ax.plot(\n",
    "    t,\n",
    "    outcome(\n",
    "        beta_zero = beta_zero, \n",
    "        beta_one = beta_one, \n",
    "        state = 0, \n",
    "        beta_two = beta_two, \n",
    "        time = t,\n",
    "        beta_three = 0,\n",
    "        treated = is_treated(t, intervention_time, state=0),\n",
    "    ),\n",
    "    \"o\",\n",
    "    color=\"C1\",\n",
    ")\n",
    "\n",
    "# PLot settings\n",
    "ax.set(\n",
    "    xlabel = \"time\",\n",
    "    ylabel = \"employment\",\n",
    "    xticks = t,\n",
    "    xticklabels = [\"Pre\", \"Post\"],\n",
    "    title = \"Difference in Differences\",\n",
    ")\n",
    "ax.legend();"
   ]
  }
 ],
 "metadata": {
  "kernelspec": {
   "display_name": "Python 3",
   "language": "python",
   "name": "python3"
  },
  "language_info": {
   "codemirror_mode": {
    "name": "ipython",
    "version": 3
   },
   "file_extension": ".py",
   "mimetype": "text/x-python",
   "name": "python",
   "nbconvert_exporter": "python",
   "pygments_lexer": "ipython3",
   "version": "3.12.1"
  }
 },
 "nbformat": 4,
 "nbformat_minor": 2
}
